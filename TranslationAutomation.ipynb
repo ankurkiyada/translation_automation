{
 "cells": [
  {
   "cell_type": "code",
   "execution_count": 64,
   "metadata": {},
   "outputs": [],
   "source": [
    "import pandas as pd\n",
    "from googletrans import Translator\n",
    "\n",
    "# Add your input file name\n",
    "input_file_name = 'my_file.xlsx'  \n",
    "\n",
    "# Add your output file name \n",
    "# put same name if you want to override existing file\n",
    "output_file_name = 'my_file1.xlsx'\n",
    "\n",
    "# Reading file\n",
    "df = pd.read_excel(input_file_name)\n",
    "\n",
    "# Intializing translator\n",
    "ts = Translator()\n",
    "\n",
    "# It will translate list to english\n",
    "# @return list the english translation\n",
    "def translate_to_english(data):\n",
    "    english_trans = ts.translate(data)\n",
    "    return [ english_data.text for english_data in english_trans]\n",
    "\n",
    "# It will translate list to Chinese\n",
    "# @return list the Chinese translation\n",
    "def translate_to_chinese(data):\n",
    "    english_trans = ts.translate(data, dest='zh-CN')\n",
    "    return [ english_data.text for english_data in english_trans]\n",
    "\n",
    "# Add your column details as per your excel\n",
    "comments_column_name = 'Comments'\n",
    "english_column_name = 'English'\n",
    "chinese_column_name = 'Chinese'\n",
    "\n",
    "# Updating data frame\n",
    "df[english_column_name] = translate_to_english(list(df[comments_column_name]))\n",
    "df[chinese_column_name] = translate_to_chinese(list(df[comments_column_name]))\n",
    "\n",
    "# converting it to excel\n",
    "df.to_excel(output_file_name, index = False)"
   ]
  },
  {
   "cell_type": "code",
   "execution_count": 31,
   "metadata": {},
   "outputs": [],
   "source": []
  },
  {
   "cell_type": "code",
   "execution_count": null,
   "metadata": {},
   "outputs": [],
   "source": []
  },
  {
   "cell_type": "code",
   "execution_count": null,
   "metadata": {},
   "outputs": [],
   "source": []
  },
  {
   "cell_type": "code",
   "execution_count": 42,
   "metadata": {},
   "outputs": [],
   "source": []
  },
  {
   "cell_type": "code",
   "execution_count": null,
   "metadata": {},
   "outputs": [],
   "source": []
  },
  {
   "cell_type": "code",
   "execution_count": null,
   "metadata": {},
   "outputs": [],
   "source": []
  },
  {
   "cell_type": "raw",
   "metadata": {},
   "source": []
  },
  {
   "cell_type": "code",
   "execution_count": null,
   "metadata": {},
   "outputs": [],
   "source": []
  },
  {
   "cell_type": "code",
   "execution_count": null,
   "metadata": {},
   "outputs": [],
   "source": []
  },
  {
   "cell_type": "code",
   "execution_count": null,
   "metadata": {},
   "outputs": [],
   "source": []
  },
  {
   "cell_type": "code",
   "execution_count": null,
   "metadata": {},
   "outputs": [],
   "source": []
  },
  {
   "cell_type": "code",
   "execution_count": null,
   "metadata": {},
   "outputs": [],
   "source": []
  }
 ],
 "metadata": {
  "kernelspec": {
   "display_name": "Python 3",
   "language": "python",
   "name": "python3"
  },
  "language_info": {
   "codemirror_mode": {
    "name": "ipython",
    "version": 3
   },
   "file_extension": ".py",
   "mimetype": "text/x-python",
   "name": "python",
   "nbconvert_exporter": "python",
   "pygments_lexer": "ipython3",
   "version": "3.7.6"
  }
 },
 "nbformat": 4,
 "nbformat_minor": 4
}
